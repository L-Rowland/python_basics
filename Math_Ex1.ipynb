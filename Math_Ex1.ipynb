{
  "nbformat": 4,
  "nbformat_minor": 0,
  "metadata": {
    "colab": {
      "provenance": [],
      "include_colab_link": true
    },
    "kernelspec": {
      "name": "python3",
      "display_name": "Python 3"
    },
    "language_info": {
      "name": "python"
    }
  },
  "cells": [
    {
      "cell_type": "markdown",
      "metadata": {
        "id": "view-in-github",
        "colab_type": "text"
      },
      "source": [
        "<a href=\"https://colab.research.google.com/github/L-Rowland/python_basics/blob/main/Math_Ex1.ipynb\" target=\"_parent\"><img src=\"https://colab.research.google.com/assets/colab-badge.svg\" alt=\"Open In Colab\"/></a>"
      ]
    },
    {
      "cell_type": "markdown",
      "source": [
        "# MATH PYTHON EXERCISE 1"
      ],
      "metadata": {
        "id": "DyT267uWSfzo"
      }
    },
    {
      "cell_type": "markdown",
      "source": [
        "1. Import math correctly"
      ],
      "metadata": {
        "id": "05uxMSoJSkZ4"
      }
    },
    {
      "cell_type": "code",
      "execution_count": 78,
      "metadata": {
        "id": "mR-BCYnKScOn"
      },
      "outputs": [],
      "source": [
        "import math"
      ]
    },
    {
      "cell_type": "markdown",
      "source": [
        "2. Convert 90 degrees to radians and print it"
      ],
      "metadata": {
        "id": "GkvsHhJYS3V5"
      }
    },
    {
      "cell_type": "code",
      "source": [
        "angle = 90\n",
        "radians = math.radians(angle)\n",
        "print(radians)"
      ],
      "metadata": {
        "id": "VbxKmhXBS7fW",
        "colab": {
          "base_uri": "https://localhost:8080/"
        },
        "outputId": "06b23616-b9e7-4e2f-df4c-bc663ee1f6cc"
      },
      "execution_count": 79,
      "outputs": [
        {
          "output_type": "stream",
          "name": "stdout",
          "text": [
            "1.5707963267948966\n"
          ]
        }
      ]
    },
    {
      "cell_type": "markdown",
      "source": [
        "3. Calculate sin 70, cos 70, tan 70"
      ],
      "metadata": {
        "id": "E_K68TvTS73G"
      }
    },
    {
      "cell_type": "code",
      "source": [
        "angle = 70\n",
        "radians = math.radians(angle)\n",
        "print(radians)\n",
        "\n",
        "print(\"sin of 70 degrees:\", math.sin(radians))\n",
        "print(\"cos of 70 degrees:\", math.cos(radians))\n",
        "print(\"tan of 70 degrees:\", math.tan(radians))"
      ],
      "metadata": {
        "id": "RU02BKOlTC87",
        "colab": {
          "base_uri": "https://localhost:8080/"
        },
        "outputId": "0a83c40e-2a68-4984-94ac-192f40363943"
      },
      "execution_count": 80,
      "outputs": [
        {
          "output_type": "stream",
          "name": "stdout",
          "text": [
            "1.2217304763960306\n",
            "sin of 70 degrees: 0.9396926207859083\n",
            "cos of 70 degrees: 0.3420201433256688\n",
            "tan of 70 degrees: 2.7474774194546216\n"
          ]
        }
      ]
    },
    {
      "cell_type": "markdown",
      "source": [
        "4. Calculate sin inverse (0.9396926207859083) cos inverse (0.3420201433256688) and tan inverse (2.7474774194546216)"
      ],
      "metadata": {
        "id": "ZschTX83TD2T"
      }
    },
    {
      "cell_type": "code",
      "source": [
        "print(\"arcsin of 70 degrees:\", math.asin(0.9396926207859083))\n",
        "print(\"arccos of 70 degrees:\", math.acos(0.3420201433256688))\n",
        "print(\"arctan of 70 degrees:\", math.atan(2.7474774194546216))"
      ],
      "metadata": {
        "id": "fNm4gUBGTLb5",
        "colab": {
          "base_uri": "https://localhost:8080/"
        },
        "outputId": "0ddc63d0-754a-4547-e229-de421ab08fed"
      },
      "execution_count": 81,
      "outputs": [
        {
          "output_type": "stream",
          "name": "stdout",
          "text": [
            "arcsin of 70 degrees: 1.2217304763960306\n",
            "arccos of 70 degrees: 1.2217304763960306\n",
            "arctan of 70 degrees: 1.2217304763960306\n"
          ]
        }
      ]
    },
    {
      "cell_type": "markdown",
      "source": [
        "5. Calculate the area of a circle with radius 7"
      ],
      "metadata": {
        "id": "4GI_0CvFTLyq"
      }
    },
    {
      "cell_type": "code",
      "source": [
        "radius = 7\n",
        "area = (radius**2 * math.pi) # Area is equal to radius squared multiplied by pi\n",
        "print(area)"
      ],
      "metadata": {
        "id": "DJO4QSf3TQAI",
        "colab": {
          "base_uri": "https://localhost:8080/"
        },
        "outputId": "6c52e8c0-96e6-4320-b5a0-1f0616d2ce35"
      },
      "execution_count": 82,
      "outputs": [
        {
          "output_type": "stream",
          "name": "stdout",
          "text": [
            "153.93804002589985\n"
          ]
        }
      ]
    },
    {
      "cell_type": "markdown",
      "source": [
        "6.Calculate the circumference of a circle with radius 7"
      ],
      "metadata": {
        "id": "hijI42uJTQQ6"
      }
    },
    {
      "cell_type": "code",
      "source": [
        "r = 7\n",
        "\n",
        "def calculate_circumference(radius):\n",
        "    circumference = (2 * math.pi * r)\n",
        "    print(circumference)\n",
        "\n",
        "calculate_circumference(r)"
      ],
      "metadata": {
        "id": "bl2Aw54MTU9_",
        "colab": {
          "base_uri": "https://localhost:8080/"
        },
        "outputId": "738cbd2f-34c0-4669-d8a8-077ef5f8f437"
      },
      "execution_count": 100,
      "outputs": [
        {
          "output_type": "stream",
          "name": "stdout",
          "text": [
            "43.982297150257104\n"
          ]
        }
      ]
    },
    {
      "cell_type": "markdown",
      "source": [
        "7. Find the cube root of 343 using the math.pow() function"
      ],
      "metadata": {
        "id": "G1ceCYkGTVeb"
      }
    },
    {
      "cell_type": "code",
      "source": [
        "num = 343\n",
        "\n",
        "cube_root = math.pow(num, (1/3))\n",
        "\n",
        "print(\"Cube root of \", str(num), \" is \", str(cube_root))"
      ],
      "metadata": {
        "id": "PaOHKiQuTfub",
        "colab": {
          "base_uri": "https://localhost:8080/"
        },
        "outputId": "6b788384-69b5-467b-8340-3be60af486ae"
      },
      "execution_count": 92,
      "outputs": [
        {
          "output_type": "stream",
          "name": "stdout",
          "text": [
            "Cube root of  343  is  6.999999999999999\n"
          ]
        }
      ]
    },
    {
      "cell_type": "markdown",
      "source": [
        "8. Calculate the floor and ceil of 7.83."
      ],
      "metadata": {
        "id": "MnWyQq3_TgMk"
      }
    },
    {
      "cell_type": "code",
      "source": [
        "print(\"math.floor(7.83) : \", math.floor(7.83))\n",
        "print(\"math.ceil(7.83) : \",math.ceil(7.83))"
      ],
      "metadata": {
        "id": "_AAHRdk3Toea",
        "colab": {
          "base_uri": "https://localhost:8080/"
        },
        "outputId": "ab2e73d0-87a0-4450-9e03-b8b883cc5a77"
      },
      "execution_count": 96,
      "outputs": [
        {
          "output_type": "stream",
          "name": "stdout",
          "text": [
            "math.floor(7.83) :  7\n",
            "math.ceil(7.83) :  8\n"
          ]
        }
      ]
    },
    {
      "cell_type": "markdown",
      "source": [
        "9. Verify identity of (sin45)^2 + (cos45)^2 is approximately equal to 1"
      ],
      "metadata": {
        "id": "t3-Uyg91To7x"
      }
    },
    {
      "cell_type": "code",
      "source": [
        "print(\"sin of 45 degrees:\", math.sin(radians))\n",
        "print(\"cos of 45 degrees:\", math.cos(radians))\n",
        "\n",
        "print(0.9396926207859083**2 + 0.3420201433256688**2)"
      ],
      "metadata": {
        "id": "TTB2YibnUJU-",
        "colab": {
          "base_uri": "https://localhost:8080/"
        },
        "outputId": "7507482e-a024-40b8-fcd3-bc80fbc0470f"
      },
      "execution_count": 109,
      "outputs": [
        {
          "output_type": "stream",
          "name": "stdout",
          "text": [
            "sin of 45 degrees: 0.9396926207859083\n",
            "cos of 45 degrees: 0.3420201433256688\n",
            "0.9999999999999999\n"
          ]
        }
      ]
    },
    {
      "cell_type": "markdown",
      "source": [
        "10. An object is dropped from a height of 78.4 meters.\n",
        "How long will it take to hit the ground?\n",
        "(Use the formula: t = √2h/g , g = 9.8"
      ],
      "metadata": {
        "id": "0_HbNRXlUJl8"
      }
    },
    {
      "cell_type": "code",
      "source": [
        "height = 78.4\n",
        "gravity = 9.8\n",
        "\n",
        "time = math.sqrt(height * 2)/(gravity)\n",
        "print(time)"
      ],
      "metadata": {
        "id": "zaVO6Fo1UjKl",
        "colab": {
          "base_uri": "https://localhost:8080/"
        },
        "outputId": "a685570a-076f-48a8-cb52-ac31499966c6"
      },
      "execution_count": 112,
      "outputs": [
        {
          "output_type": "stream",
          "name": "stdout",
          "text": [
            "1.2777531299998797\n"
          ]
        }
      ]
    },
    {
      "cell_type": "markdown",
      "source": [
        "11. Area of an Equilateral Triangle\n",
        "Given the side length of an equilateral triangle is 6 units, calculate its area.\n",
        "Use the formula: Area = √(3/4) * (side)^2"
      ],
      "metadata": {
        "id": "lFK6CYF_UjhE"
      }
    },
    {
      "cell_type": "code",
      "source": [
        "units = 6\n",
        "area = math.sqrt(3/4) * (unit)^2\n",
        "print(area)"
      ],
      "metadata": {
        "id": "GSQuQ7UBUvuL",
        "colab": {
          "base_uri": "https://localhost:8080/",
          "height": 176
        },
        "outputId": "184c7fda-4c6f-4e72-9a8a-f4f528777352"
      },
      "execution_count": 114,
      "outputs": [
        {
          "output_type": "error",
          "ename": "NameError",
          "evalue": "name 'unit' is not defined",
          "traceback": [
            "\u001b[0;31m---------------------------------------------------------------------------\u001b[0m",
            "\u001b[0;31mNameError\u001b[0m                                 Traceback (most recent call last)",
            "\u001b[0;32m<ipython-input-114-51031357556d>\u001b[0m in \u001b[0;36m<cell line: 0>\u001b[0;34m()\u001b[0m\n\u001b[1;32m      1\u001b[0m \u001b[0munits\u001b[0m \u001b[0;34m=\u001b[0m \u001b[0;36m6\u001b[0m\u001b[0;34m\u001b[0m\u001b[0;34m\u001b[0m\u001b[0m\n\u001b[0;32m----> 2\u001b[0;31m \u001b[0marea\u001b[0m \u001b[0;34m=\u001b[0m \u001b[0mmath\u001b[0m\u001b[0;34m.\u001b[0m\u001b[0msqrt\u001b[0m\u001b[0;34m(\u001b[0m\u001b[0;36m3\u001b[0m\u001b[0;34m/\u001b[0m\u001b[0;36m4\u001b[0m\u001b[0;34m)\u001b[0m \u001b[0;34m*\u001b[0m \u001b[0;34m(\u001b[0m\u001b[0munit\u001b[0m\u001b[0;34m)\u001b[0m\u001b[0;34m^\u001b[0m\u001b[0;36m2\u001b[0m\u001b[0;34m\u001b[0m\u001b[0;34m\u001b[0m\u001b[0m\n\u001b[0m\u001b[1;32m      3\u001b[0m \u001b[0mprint\u001b[0m\u001b[0;34m(\u001b[0m\u001b[0marea\u001b[0m\u001b[0;34m)\u001b[0m\u001b[0;34m\u001b[0m\u001b[0;34m\u001b[0m\u001b[0m\n",
            "\u001b[0;31mNameError\u001b[0m: name 'unit' is not defined"
          ]
        }
      ]
    }
  ]
}