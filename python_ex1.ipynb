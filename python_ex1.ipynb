{
  "nbformat": 4,
  "nbformat_minor": 0,
  "metadata": {
    "colab": {
      "provenance": [],
      "include_colab_link": true
    },
    "kernelspec": {
      "name": "python3",
      "display_name": "Python 3"
    },
    "language_info": {
      "name": "python"
    }
  },
  "cells": [
    {
      "cell_type": "markdown",
      "metadata": {
        "id": "view-in-github",
        "colab_type": "text"
      },
      "source": [
        "<a href=\"https://colab.research.google.com/github/L-Rowland/python_basics/blob/main/python_ex1.ipynb\" target=\"_parent\"><img src=\"https://colab.research.google.com/assets/colab-badge.svg\" alt=\"Open In Colab\"/></a>"
      ]
    },
    {
      "cell_type": "markdown",
      "source": [
        "### **Python Basics Exercise 1**"
      ],
      "metadata": {
        "id": "WavzXiU6pqYs"
      }
    },
    {
      "cell_type": "markdown",
      "source": [
        "\n",
        "## Exercise 1: Printing\n",
        "### Task:\n",
        "Print the following message: \"Hello, Python!\""
      ],
      "metadata": {
        "id": "1K092Tujp0S-"
      }
    },
    {
      "cell_type": "code",
      "source": [
        "print(\"Hello, Python!\")"
      ],
      "metadata": {
        "colab": {
          "base_uri": "https://localhost:8080/"
        },
        "id": "drvra7Tsrhw-",
        "outputId": "5ea4c21e-271c-4845-c481-80c8cc3f1c8c"
      },
      "execution_count": 1,
      "outputs": [
        {
          "output_type": "stream",
          "name": "stdout",
          "text": [
            "Hello, Python!\n"
          ]
        }
      ]
    },
    {
      "cell_type": "markdown",
      "source": [
        "## Exercise 2: Variables and Data Types\n",
        "### Task:\n",
        "Create a variable `name` and assign it your name as a string. Then, print it."
      ],
      "metadata": {
        "id": "-An4H9_atBHP"
      }
    },
    {
      "cell_type": "code",
      "source": [
        "name = \"Lucas\"\n",
        "print(name)"
      ],
      "metadata": {
        "colab": {
          "base_uri": "https://localhost:8080/"
        },
        "id": "tr9X_rzytCzv",
        "outputId": "a7c59586-6a6f-4583-c95f-f193c180a5ed"
      },
      "execution_count": 2,
      "outputs": [
        {
          "output_type": "stream",
          "name": "stdout",
          "text": [
            "Lucas\n"
          ]
        }
      ]
    },
    {
      "cell_type": "markdown",
      "source": [
        "## Exercise 3: User Input\n",
        "### Task:\n",
        "Ask the user to enter their favorite color and store it in a variable. Then, print \"Your favorite color is ___\""
      ],
      "metadata": {
        "id": "CLzw6wNQtQhm"
      }
    },
    {
      "cell_type": "code",
      "source": [
        "colour = input(\"Enter your favourite colour:\")\n",
        "print(\"Your favourite colour is\", colour)"
      ],
      "metadata": {
        "colab": {
          "base_uri": "https://localhost:8080/"
        },
        "id": "B-T9UA-etV6_",
        "outputId": "0541552d-eddd-45da-a878-ca05ffca31f9"
      },
      "execution_count": 7,
      "outputs": [
        {
          "output_type": "stream",
          "name": "stdout",
          "text": [
            "Enter your favourite colour:Green\n",
            "Your favourite colour is Green\n"
          ]
        }
      ]
    },
    {
      "cell_type": "markdown",
      "source": [
        "## Exercise 4: Simple Conditionals\n",
        "### Task:\n",
        "Write a program that asks the user for their age. If they are 18 or older, print \"You are an adult\". Otherwise, print \"You are a minor\"."
      ],
      "metadata": {
        "id": "96LdlrHStuBw"
      }
    },
    {
      "cell_type": "code",
      "source": [
        "age = int(input(\"Enter your age:\"))\n",
        "if age >= 18:\n",
        "  print(\"You are an adult\")\n",
        "else:\n",
        "  print(\"You are a minor\")"
      ],
      "metadata": {
        "colab": {
          "base_uri": "https://localhost:8080/"
        },
        "id": "hbaWtMfqtvZb",
        "outputId": "dd84be82-91b6-42e5-8bbc-f7e94308bcb3"
      },
      "execution_count": 11,
      "outputs": [
        {
          "output_type": "stream",
          "name": "stdout",
          "text": [
            "Enter your age:18\n",
            "You are an adult\n"
          ]
        }
      ]
    },
    {
      "cell_type": "markdown",
      "source": [
        "## Exercise 5: Even or Odd\n",
        "### Task:\n",
        "Ask the user to enter a number. Check if the number is even or odd and print the result."
      ],
      "metadata": {
        "id": "YcSYS6jTtz4-"
      }
    },
    {
      "cell_type": "code",
      "source": [
        "number = int(input(\"Enter a number:\"))\n",
        "if number%2==0:\n",
        "  print(\"That is an even number\")\n",
        "else:\n",
        "  print(\"That is an odd number\")"
      ],
      "metadata": {
        "colab": {
          "base_uri": "https://localhost:8080/"
        },
        "id": "NyFdva-jt38F",
        "outputId": "7a16ed03-5869-46fb-ce99-af9f2d2acdb3"
      },
      "execution_count": 35,
      "outputs": [
        {
          "output_type": "stream",
          "name": "stdout",
          "text": [
            "Enter a number:4\n",
            "That is an even number\n"
          ]
        }
      ]
    },
    {
      "cell_type": "markdown",
      "source": [
        "## Exercise 6: For Loop\n",
        "### Task:\n",
        "Write a for loop that prints the numbers from 1 to 5."
      ],
      "metadata": {
        "id": "M9_wpBLmuBN7"
      }
    },
    {
      "cell_type": "code",
      "source": [
        "for i in range(1,6):\n",
        "  print(i)"
      ],
      "metadata": {
        "colab": {
          "base_uri": "https://localhost:8080/"
        },
        "id": "58YhJqvduGzf",
        "outputId": "f995d840-fc6c-4826-b994-d612115c339a"
      },
      "execution_count": 28,
      "outputs": [
        {
          "output_type": "stream",
          "name": "stdout",
          "text": [
            "1\n",
            "2\n",
            "3\n",
            "4\n",
            "5\n"
          ]
        }
      ]
    },
    {
      "cell_type": "markdown",
      "source": [
        "## Exercise 7: While Loop\n",
        "### Task:\n",
        "Write a while loop that prints numbers from 1 to 5."
      ],
      "metadata": {
        "id": "Tvvw7QLnuLVz"
      }
    },
    {
      "cell_type": "code",
      "source": [
        "i = 1\n",
        "while i <= 5:\n",
        "  print(i)\n",
        "  i += 1\n",
        "else:\n",
        "  print(\"End loop\")\n"
      ],
      "metadata": {
        "colab": {
          "base_uri": "https://localhost:8080/"
        },
        "id": "fLaorZLFuOlv",
        "outputId": "8b844736-7750-4ef6-f5f6-4f41eaafc975"
      },
      "execution_count": 37,
      "outputs": [
        {
          "output_type": "stream",
          "name": "stdout",
          "text": [
            "1\n",
            "2\n",
            "3\n",
            "4\n",
            "5\n",
            "End loop\n"
          ]
        }
      ]
    },
    {
      "cell_type": "markdown",
      "source": [
        "## Exercise 8: Sum of Numbers\n",
        "### Task:\n",
        "Write a loop that calculates and prints the sum of numbers from 1 to 10."
      ],
      "metadata": {
        "id": "AUcAuhZZuTQT"
      }
    },
    {
      "cell_type": "code",
      "source": [
        "sum = 0\n",
        "for i in range(1, 11):\n",
        "   sum += i\n",
        "print(sum)\n"
      ],
      "metadata": {
        "colab": {
          "base_uri": "https://localhost:8080/"
        },
        "id": "ev3EHm1duW62",
        "outputId": "e649af06-606f-47cf-f561-c9ef59ae31a9"
      },
      "execution_count": 54,
      "outputs": [
        {
          "output_type": "stream",
          "name": "stdout",
          "text": [
            "55\n"
          ]
        }
      ]
    },
    {
      "cell_type": "markdown",
      "source": [
        "## Exercise 9: FizzBuzz\n",
        "### Task:\n",
        "Write a program that prints numbers from 1 to 20.\n",
        "- If a number is divisible by 3, print \"Fizz\" instead.\n",
        "- If a number is divisible by 5, print \"Buzz\" instead.\n",
        "- If a number is divisible by both 3 and 5, print \"FizzBuzz\"."
      ],
      "metadata": {
        "id": "GDSmiDsIucex"
      }
    },
    {
      "cell_type": "code",
      "source": [
        "for i in range (1, 21):\n",
        "  if i%3==0 and i%5==0:\n",
        "    print(\"FizzBuzz\")\n",
        "  elif i%5==0:\n",
        "    print(\"Buzz\")\n",
        "  elif i%3==0:\n",
        "    print(\"Fizz\")\n",
        "  else:\n",
        "    print(i)"
      ],
      "metadata": {
        "id": "n1dKRLrgudjv",
        "outputId": "f02b6f26-90c7-44f5-d02a-523a267b0431",
        "colab": {
          "base_uri": "https://localhost:8080/"
        }
      },
      "execution_count": 70,
      "outputs": [
        {
          "output_type": "stream",
          "name": "stdout",
          "text": [
            "1\n",
            "2\n",
            "Fizz\n",
            "4\n",
            "Buzz\n",
            "Fizz\n",
            "7\n",
            "8\n",
            "Fizz\n",
            "Buzz\n",
            "11\n",
            "Fizz\n",
            "13\n",
            "14\n",
            "FizzBuzz\n",
            "16\n",
            "17\n",
            "Fizz\n",
            "19\n",
            "Buzz\n"
          ]
        }
      ]
    }
  ]
}