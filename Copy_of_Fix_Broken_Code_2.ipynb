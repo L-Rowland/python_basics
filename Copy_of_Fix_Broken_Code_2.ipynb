{
  "nbformat": 4,
  "nbformat_minor": 0,
  "metadata": {
    "colab": {
      "provenance": [],
      "include_colab_link": true
    },
    "kernelspec": {
      "name": "python3",
      "display_name": "Python 3"
    },
    "language_info": {
      "name": "python"
    }
  },
  "cells": [
    {
      "cell_type": "markdown",
      "metadata": {
        "id": "view-in-github",
        "colab_type": "text"
      },
      "source": [
        "<a href=\"https://colab.research.google.com/github/L-Rowland/python_basics/blob/main/Copy_of_Fix_Broken_Code_2.ipynb\" target=\"_parent\"><img src=\"https://colab.research.google.com/assets/colab-badge.svg\" alt=\"Open In Colab\"/></a>"
      ]
    },
    {
      "cell_type": "markdown",
      "source": [
        "# FIX BROKEN CODE EX -2"
      ],
      "metadata": {
        "id": "08sjzD0crTpa"
      }
    },
    {
      "cell_type": "markdown",
      "source": [
        "What's wrong with this code ? : <answer here>"
      ],
      "metadata": {
        "id": "2m3U8JXZrtuh"
      }
    },
    {
      "cell_type": "code",
      "execution_count": null,
      "metadata": {
        "id": "iVaVnQ9Jp3jO",
        "outputId": "f94e471b-6dba-45f1-a1aa-7e1e8d697d34",
        "colab": {
          "base_uri": "https://localhost:8080/"
        }
      },
      "outputs": [
        {
          "output_type": "stream",
          "name": "stdout",
          "text": [
            "The area is: 15\n"
          ]
        }
      ],
      "source": [
        "def calculate_area (width, height):\n",
        "    area = width * height;\n",
        "    return \"The area is: \"  + str(area)\n",
        "\n",
        "print(calculate_area(5, 3))\n",
        "# should output 15\n",
        "# added brackets, fixed indentation error, converted \"area\" to str"
      ]
    },
    {
      "cell_type": "markdown",
      "source": [
        "What's wrong with this code ? : <answer here>"
      ],
      "metadata": {
        "id": "6hVQsnmzr3i8"
      }
    },
    {
      "cell_type": "code",
      "source": [
        "def factorial(n):\n",
        "    if n == 1:\n",
        "        return 1\n",
        "    else:\n",
        "        return n * factorial(n - 1)\n",
        "        print(\"Calculating factorial...\")\n",
        "\n",
        "print(factorial(5))\n",
        "# should output 120\n",
        "# nothing wrong, outputs 120 as expected"
      ],
      "metadata": {
        "id": "lkxA7zApr4c0",
        "outputId": "202400e6-742b-44bb-dfdb-48c6a2f69b4d",
        "colab": {
          "base_uri": "https://localhost:8080/"
        }
      },
      "execution_count": null,
      "outputs": [
        {
          "output_type": "stream",
          "name": "stdout",
          "text": [
            "120\n"
          ]
        }
      ]
    },
    {
      "cell_type": "markdown",
      "source": [
        "What's wrong with this code ? : <answer here>"
      ],
      "metadata": {
        "id": "7vL1tBsqsJPn"
      }
    },
    {
      "cell_type": "code",
      "source": [
        "items = [\"apple\", \"banana\", \"cherry\"]\n",
        "for i in range(len(items)):\n",
        "    print(items[i])\n",
        "# should output :\n",
        "  # apple\n",
        "  # banana\n",
        "  # cherry\n",
        "  # changed brackets to square brackets"
      ],
      "metadata": {
        "id": "3GejQUaAsOtV",
        "outputId": "4cbc0fa9-1516-407b-f929-c2dcef1524a0",
        "colab": {
          "base_uri": "https://localhost:8080/"
        }
      },
      "execution_count": null,
      "outputs": [
        {
          "output_type": "stream",
          "name": "stdout",
          "text": [
            "apple\n",
            "banana\n",
            "cherry\n"
          ]
        }
      ]
    },
    {
      "cell_type": "markdown",
      "source": [
        "What's wrong with this code ? : <answer here>"
      ],
      "metadata": {
        "id": "2hp9rlqjst6F"
      }
    },
    {
      "cell_type": "code",
      "source": [
        "name = \"Alice\"\n",
        "age = 25\n",
        "print(\"Name: \" + (name) + \", Age: \" + str(age))\n",
        "# should output : Name: Alice, Age: 25\n",
        "# converted \"age\" to str"
      ],
      "metadata": {
        "id": "CBSFawIksvpu",
        "outputId": "cb86c5b6-0111-4a0c-b91b-aefca104548c",
        "colab": {
          "base_uri": "https://localhost:8080/"
        }
      },
      "execution_count": null,
      "outputs": [
        {
          "output_type": "stream",
          "name": "stdout",
          "text": [
            "Name: Alice, Age: 25\n"
          ]
        }
      ]
    },
    {
      "cell_type": "markdown",
      "source": [
        "What's wrong with this code ? : <answer here>"
      ],
      "metadata": {
        "id": "1cS9jPX7s5tV"
      }
    },
    {
      "cell_type": "code",
      "source": [
        "\n",
        "# This function has multiple issues but is easier to debug.\n",
        "def process_data(data_list):\n",
        "    result = []\n",
        "    for i in range(len(data_list)):\n",
        "        if data_list[i] % 2 == 0:\n",
        "            result.append(\"Even: \" + str(data_list[i]))\n",
        "        else:\n",
        "            result.append(\"Odd: \" + str(data_list[i]))\n",
        "\n",
        "    return result\n",
        "\n",
        "data = [1, 2, 3, 4, 5]\n",
        "print(process_data(data))\n",
        "\n",
        "# Expected Output (if errors are fixed):\n",
        "# ['Odd: 1', 'Even: 2', 'Odd: 3', 'Even: 4', 'Odd: 5']\n",
        "# removed square bracket, added colon, removed s from ranges, data_list misspelled, appen changed to append, changed / to %, removed +1/-1 from i\n"
      ],
      "metadata": {
        "id": "1euekMk_s-Nj",
        "outputId": "fda466f9-18cc-4492-f75b-9f6a898e193f",
        "colab": {
          "base_uri": "https://localhost:8080/"
        }
      },
      "execution_count": null,
      "outputs": [
        {
          "output_type": "stream",
          "name": "stdout",
          "text": [
            "['Odd: 1', 'Even: 2', 'Odd: 3', 'Even: 4', 'Odd: 5']\n"
          ]
        }
      ]
    },
    {
      "cell_type": "markdown",
      "source": [
        "What's wrong with this code ? : <answer here>"
      ],
      "metadata": {
        "id": "Mp4Tja09xZBY"
      }
    },
    {
      "cell_type": "code",
      "source": [
        "def greet(name):\n",
        "   return \"Hello, \" + name\n",
        "\n",
        "print(greet(\"John\"))\n",
        "# should output : Hello, John\n",
        "# added quote marks around John, changed message to return"
      ],
      "metadata": {
        "id": "QDa1Zac_xdVb",
        "outputId": "5977b2de-4b2b-484a-967e-c20b942db2a9",
        "colab": {
          "base_uri": "https://localhost:8080/"
        }
      },
      "execution_count": null,
      "outputs": [
        {
          "output_type": "stream",
          "name": "stdout",
          "text": [
            "Hello, John\n"
          ]
        }
      ]
    },
    {
      "cell_type": "markdown",
      "source": [
        "What's wrong with this code ? : <answer here>"
      ],
      "metadata": {
        "id": "cXqL2Fb6yMxk"
      }
    },
    {
      "cell_type": "code",
      "source": [
        "# This function processes customer orders and calculates discounts\n",
        "def process_orders(orders):\n",
        "    total_price = 0\n",
        "    for order in orders:\n",
        "        if \"price\" in order and \"quantity\" in order:\n",
        "            total_price += order[\"price\"] * order[\"quantity\"]\n",
        "        else:\n",
        "            print(\"invalid order: \" + str(order))\n",
        "\n",
        "    discount = 0.1 if total_price > 100 else 0.05\n",
        "    final_price = total_price - total_price * discount\n",
        "    return \"total after discount: \" + str(final_price)\n",
        "\n",
        "orders = [\n",
        "    {\"item\": \"Laptop\", \"price\": 900, \"quantity\": 1},\n",
        "    {\"item\": \"Mouse\", \"price\": 25, \"quantity\": 2},\n",
        "    {\"item\": \"Keyboard\", \"price\": 50, \"quantity\": 1},\n",
        "    {\"item\": \"Monitor\", \"price\": 30, \"quantity\": 1}\n",
        "]\n",
        "\n",
        "print(process_orders(orders))\n",
        "\n",
        "# Expected Output (if errors are fixed):\n",
        "# 'Total after discount: 927.0'\n",
        "# Monitor had no price, chnaged order and final price to str\n"
      ],
      "metadata": {
        "id": "xo_k2aiWyPD_",
        "outputId": "71a09c51-de1e-4c83-a94a-a9dffb5a7700",
        "colab": {
          "base_uri": "https://localhost:8080/"
        }
      },
      "execution_count": 14,
      "outputs": [
        {
          "output_type": "stream",
          "name": "stdout",
          "text": [
            "total after discount: 927.0\n"
          ]
        }
      ]
    }
  ]
}